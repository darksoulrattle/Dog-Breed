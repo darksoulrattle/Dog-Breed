{
  "cells": [
    {
      "cell_type": "code",
      "execution_count": null,
      "metadata": {
        "colab": {
          "base_uri": "https://localhost:8080/"
        },
        "id": "v-IUropJ2Oa9",
        "outputId": "ea9d5f76-80cb-4dd8-948b-dd68154b9f67"
      },
      "outputs": [
        {
          "output_type": "stream",
          "name": "stdout",
          "text": [
            "Drive already mounted at /content/drive; to attempt to forcibly remount, call drive.mount(\"/content/drive\", force_remount=True).\n"
          ]
        }
      ],
      "source": [
        "from google.colab import drive\n",
        "drive.mount('/content/drive')"
      ]
    },
    {
      "cell_type": "code",
      "execution_count": null,
      "metadata": {
        "colab": {
          "base_uri": "https://localhost:8080/"
        },
        "id": "uhcHrwuO2j8k",
        "outputId": "c5808268-8119-48e8-aff5-bc6184b38bd6"
      },
      "outputs": [
        {
          "output_type": "stream",
          "name": "stdout",
          "text": [
            "Number of train data =  1021\n",
            "Number of validation data =  822\n"
          ]
        }
      ],
      "source": [
        "import os\n",
        "c=0\n",
        "dir_train = '/content/drive/MyDrive/Deep Learning/train'\n",
        "for i in os.listdir(dir_train):\n",
        "  c=c+1\n",
        "print(\"Number of train data = \",c)\n",
        "c=0\n",
        "dir_validation = '/content/drive/MyDrive/Deep Learning/test'\n",
        "for i in os.listdir(dir_validation):\n",
        "  c=c+1\n",
        "print(\"Number of validation data = \",c)"
      ]
    },
    {
      "cell_type": "code",
      "execution_count": null,
      "metadata": {
        "colab": {
          "base_uri": "https://localhost:8080/",
          "height": 424
        },
        "id": "pK9xPbyY2kAW",
        "outputId": "9242c582-a30a-4ac7-9139-7945b93f5dbc"
      },
      "outputs": [
        {
          "output_type": "execute_result",
          "data": {
            "text/plain": [
              "                                    id                           breed\n",
              "0     000bec180eb18c7604dcecc8fe0dba07                     boston_bull\n",
              "1     001513dfcb2ffafc82cccf4d8bbaba97                           dingo\n",
              "2     001cdf01b096e06d78e9e5112d419397                        pekinese\n",
              "3     00214f311d5d2247d5dfe4fe24b2303d                        bluetick\n",
              "4     0021f9ceb3235effd7fcde7f7538ed62                golden_retriever\n",
              "...                                ...                             ...\n",
              "1016  19299f2fae5ea3f66ee61b38d97167d0                english_springer\n",
              "1017  1929eb9a7cf1fe75c0731a27545d8893                         samoyed\n",
              "1018  193341cdba32aaace0609a1d633e3f33  american_staffordshire_terrier\n",
              "1019  19338a74e8e5a84e1c4bdd59309507a5              norwegian_elkhound\n",
              "1020  1934100d2a8d871ab7abd9761f62486f                 german_shepherd\n",
              "\n",
              "[1021 rows x 2 columns]"
            ],
            "text/html": [
              "\n",
              "  <div id=\"df-c4806b51-ae92-4e38-ad58-a329784ce49b\">\n",
              "    <div class=\"colab-df-container\">\n",
              "      <div>\n",
              "<style scoped>\n",
              "    .dataframe tbody tr th:only-of-type {\n",
              "        vertical-align: middle;\n",
              "    }\n",
              "\n",
              "    .dataframe tbody tr th {\n",
              "        vertical-align: top;\n",
              "    }\n",
              "\n",
              "    .dataframe thead th {\n",
              "        text-align: right;\n",
              "    }\n",
              "</style>\n",
              "<table border=\"1\" class=\"dataframe\">\n",
              "  <thead>\n",
              "    <tr style=\"text-align: right;\">\n",
              "      <th></th>\n",
              "      <th>id</th>\n",
              "      <th>breed</th>\n",
              "    </tr>\n",
              "  </thead>\n",
              "  <tbody>\n",
              "    <tr>\n",
              "      <th>0</th>\n",
              "      <td>000bec180eb18c7604dcecc8fe0dba07</td>\n",
              "      <td>boston_bull</td>\n",
              "    </tr>\n",
              "    <tr>\n",
              "      <th>1</th>\n",
              "      <td>001513dfcb2ffafc82cccf4d8bbaba97</td>\n",
              "      <td>dingo</td>\n",
              "    </tr>\n",
              "    <tr>\n",
              "      <th>2</th>\n",
              "      <td>001cdf01b096e06d78e9e5112d419397</td>\n",
              "      <td>pekinese</td>\n",
              "    </tr>\n",
              "    <tr>\n",
              "      <th>3</th>\n",
              "      <td>00214f311d5d2247d5dfe4fe24b2303d</td>\n",
              "      <td>bluetick</td>\n",
              "    </tr>\n",
              "    <tr>\n",
              "      <th>4</th>\n",
              "      <td>0021f9ceb3235effd7fcde7f7538ed62</td>\n",
              "      <td>golden_retriever</td>\n",
              "    </tr>\n",
              "    <tr>\n",
              "      <th>...</th>\n",
              "      <td>...</td>\n",
              "      <td>...</td>\n",
              "    </tr>\n",
              "    <tr>\n",
              "      <th>1016</th>\n",
              "      <td>19299f2fae5ea3f66ee61b38d97167d0</td>\n",
              "      <td>english_springer</td>\n",
              "    </tr>\n",
              "    <tr>\n",
              "      <th>1017</th>\n",
              "      <td>1929eb9a7cf1fe75c0731a27545d8893</td>\n",
              "      <td>samoyed</td>\n",
              "    </tr>\n",
              "    <tr>\n",
              "      <th>1018</th>\n",
              "      <td>193341cdba32aaace0609a1d633e3f33</td>\n",
              "      <td>american_staffordshire_terrier</td>\n",
              "    </tr>\n",
              "    <tr>\n",
              "      <th>1019</th>\n",
              "      <td>19338a74e8e5a84e1c4bdd59309507a5</td>\n",
              "      <td>norwegian_elkhound</td>\n",
              "    </tr>\n",
              "    <tr>\n",
              "      <th>1020</th>\n",
              "      <td>1934100d2a8d871ab7abd9761f62486f</td>\n",
              "      <td>german_shepherd</td>\n",
              "    </tr>\n",
              "  </tbody>\n",
              "</table>\n",
              "<p>1021 rows × 2 columns</p>\n",
              "</div>\n",
              "      <button class=\"colab-df-convert\" onclick=\"convertToInteractive('df-c4806b51-ae92-4e38-ad58-a329784ce49b')\"\n",
              "              title=\"Convert this dataframe to an interactive table.\"\n",
              "              style=\"display:none;\">\n",
              "        \n",
              "  <svg xmlns=\"http://www.w3.org/2000/svg\" height=\"24px\"viewBox=\"0 0 24 24\"\n",
              "       width=\"24px\">\n",
              "    <path d=\"M0 0h24v24H0V0z\" fill=\"none\"/>\n",
              "    <path d=\"M18.56 5.44l.94 2.06.94-2.06 2.06-.94-2.06-.94-.94-2.06-.94 2.06-2.06.94zm-11 1L8.5 8.5l.94-2.06 2.06-.94-2.06-.94L8.5 2.5l-.94 2.06-2.06.94zm10 10l.94 2.06.94-2.06 2.06-.94-2.06-.94-.94-2.06-.94 2.06-2.06.94z\"/><path d=\"M17.41 7.96l-1.37-1.37c-.4-.4-.92-.59-1.43-.59-.52 0-1.04.2-1.43.59L10.3 9.45l-7.72 7.72c-.78.78-.78 2.05 0 2.83L4 21.41c.39.39.9.59 1.41.59.51 0 1.02-.2 1.41-.59l7.78-7.78 2.81-2.81c.8-.78.8-2.07 0-2.86zM5.41 20L4 18.59l7.72-7.72 1.47 1.35L5.41 20z\"/>\n",
              "  </svg>\n",
              "      </button>\n",
              "      \n",
              "  <style>\n",
              "    .colab-df-container {\n",
              "      display:flex;\n",
              "      flex-wrap:wrap;\n",
              "      gap: 12px;\n",
              "    }\n",
              "\n",
              "    .colab-df-convert {\n",
              "      background-color: #E8F0FE;\n",
              "      border: none;\n",
              "      border-radius: 50%;\n",
              "      cursor: pointer;\n",
              "      display: none;\n",
              "      fill: #1967D2;\n",
              "      height: 32px;\n",
              "      padding: 0 0 0 0;\n",
              "      width: 32px;\n",
              "    }\n",
              "\n",
              "    .colab-df-convert:hover {\n",
              "      background-color: #E2EBFA;\n",
              "      box-shadow: 0px 1px 2px rgba(60, 64, 67, 0.3), 0px 1px 3px 1px rgba(60, 64, 67, 0.15);\n",
              "      fill: #174EA6;\n",
              "    }\n",
              "\n",
              "    [theme=dark] .colab-df-convert {\n",
              "      background-color: #3B4455;\n",
              "      fill: #D2E3FC;\n",
              "    }\n",
              "\n",
              "    [theme=dark] .colab-df-convert:hover {\n",
              "      background-color: #434B5C;\n",
              "      box-shadow: 0px 1px 3px 1px rgba(0, 0, 0, 0.15);\n",
              "      filter: drop-shadow(0px 1px 2px rgba(0, 0, 0, 0.3));\n",
              "      fill: #FFFFFF;\n",
              "    }\n",
              "  </style>\n",
              "\n",
              "      <script>\n",
              "        const buttonEl =\n",
              "          document.querySelector('#df-c4806b51-ae92-4e38-ad58-a329784ce49b button.colab-df-convert');\n",
              "        buttonEl.style.display =\n",
              "          google.colab.kernel.accessAllowed ? 'block' : 'none';\n",
              "\n",
              "        async function convertToInteractive(key) {\n",
              "          const element = document.querySelector('#df-c4806b51-ae92-4e38-ad58-a329784ce49b');\n",
              "          const dataTable =\n",
              "            await google.colab.kernel.invokeFunction('convertToInteractive',\n",
              "                                                     [key], {});\n",
              "          if (!dataTable) return;\n",
              "\n",
              "          const docLinkHtml = 'Like what you see? Visit the ' +\n",
              "            '<a target=\"_blank\" href=https://colab.research.google.com/notebooks/data_table.ipynb>data table notebook</a>'\n",
              "            + ' to learn more about interactive tables.';\n",
              "          element.innerHTML = '';\n",
              "          dataTable['output_type'] = 'display_data';\n",
              "          await google.colab.output.renderOutput(dataTable, element);\n",
              "          const docLink = document.createElement('div');\n",
              "          docLink.innerHTML = docLinkHtml;\n",
              "          element.appendChild(docLink);\n",
              "        }\n",
              "      </script>\n",
              "    </div>\n",
              "  </div>\n",
              "  "
            ]
          },
          "metadata": {},
          "execution_count": 21
        }
      ],
      "source": [
        "import pandas as pd\n",
        "dat = pd.read_csv('/content/drive/MyDrive/Deep Learning/labels.csv')\n",
        "dat = dat[0:1021]\n",
        "dat"
      ]
    },
    {
      "cell_type": "code",
      "execution_count": null,
      "metadata": {
        "colab": {
          "base_uri": "https://localhost:8080/"
        },
        "id": "uTX166Xd2kDw",
        "outputId": "9f9cfdd8-5849-4e61-f3e6-97ca4fb37471"
      },
      "outputs": [
        {
          "output_type": "execute_result",
          "data": {
            "text/plain": [
              "0                          boston_bull\n",
              "1                                dingo\n",
              "2                             pekinese\n",
              "3                             bluetick\n",
              "4                     golden_retriever\n",
              "                     ...              \n",
              "1016                  english_springer\n",
              "1017                           samoyed\n",
              "1018    american_staffordshire_terrier\n",
              "1019                norwegian_elkhound\n",
              "1020                   german_shepherd\n",
              "Name: breed, Length: 1021, dtype: object"
            ]
          },
          "metadata": {},
          "execution_count": 22
        }
      ],
      "source": [
        "import numpy as np\n",
        "y = dat['breed']\n",
        "y"
      ]
    },
    {
      "cell_type": "code",
      "source": [
        "y = pd.get_dummies(y)\n",
        "y"
      ],
      "metadata": {
        "colab": {
          "base_uri": "https://localhost:8080/",
          "height": 505
        },
        "id": "t9HC6U31ZU-L",
        "outputId": "7480d46d-e9af-4445-f04a-8d1e7b40d4b4"
      },
      "execution_count": null,
      "outputs": [
        {
          "output_type": "execute_result",
          "data": {
            "text/plain": [
              "      affenpinscher  afghan_hound  african_hunting_dog  airedale  \\\n",
              "0                 0             0                    0         0   \n",
              "1                 0             0                    0         0   \n",
              "2                 0             0                    0         0   \n",
              "3                 0             0                    0         0   \n",
              "4                 0             0                    0         0   \n",
              "...             ...           ...                  ...       ...   \n",
              "1016              0             0                    0         0   \n",
              "1017              0             0                    0         0   \n",
              "1018              0             0                    0         0   \n",
              "1019              0             0                    0         0   \n",
              "1020              0             0                    0         0   \n",
              "\n",
              "      american_staffordshire_terrier  appenzeller  australian_terrier  \\\n",
              "0                                  0            0                   0   \n",
              "1                                  0            0                   0   \n",
              "2                                  0            0                   0   \n",
              "3                                  0            0                   0   \n",
              "4                                  0            0                   0   \n",
              "...                              ...          ...                 ...   \n",
              "1016                               0            0                   0   \n",
              "1017                               0            0                   0   \n",
              "1018                               1            0                   0   \n",
              "1019                               0            0                   0   \n",
              "1020                               0            0                   0   \n",
              "\n",
              "      basenji  basset  beagle  ...  toy_poodle  toy_terrier  vizsla  \\\n",
              "0           0       0       0  ...           0            0       0   \n",
              "1           0       0       0  ...           0            0       0   \n",
              "2           0       0       0  ...           0            0       0   \n",
              "3           0       0       0  ...           0            0       0   \n",
              "4           0       0       0  ...           0            0       0   \n",
              "...       ...     ...     ...  ...         ...          ...     ...   \n",
              "1016        0       0       0  ...           0            0       0   \n",
              "1017        0       0       0  ...           0            0       0   \n",
              "1018        0       0       0  ...           0            0       0   \n",
              "1019        0       0       0  ...           0            0       0   \n",
              "1020        0       0       0  ...           0            0       0   \n",
              "\n",
              "      walker_hound  weimaraner  welsh_springer_spaniel  \\\n",
              "0                0           0                       0   \n",
              "1                0           0                       0   \n",
              "2                0           0                       0   \n",
              "3                0           0                       0   \n",
              "4                0           0                       0   \n",
              "...            ...         ...                     ...   \n",
              "1016             0           0                       0   \n",
              "1017             0           0                       0   \n",
              "1018             0           0                       0   \n",
              "1019             0           0                       0   \n",
              "1020             0           0                       0   \n",
              "\n",
              "      west_highland_white_terrier  whippet  wire-haired_fox_terrier  \\\n",
              "0                               0        0                        0   \n",
              "1                               0        0                        0   \n",
              "2                               0        0                        0   \n",
              "3                               0        0                        0   \n",
              "4                               0        0                        0   \n",
              "...                           ...      ...                      ...   \n",
              "1016                            0        0                        0   \n",
              "1017                            0        0                        0   \n",
              "1018                            0        0                        0   \n",
              "1019                            0        0                        0   \n",
              "1020                            0        0                        0   \n",
              "\n",
              "      yorkshire_terrier  \n",
              "0                     0  \n",
              "1                     0  \n",
              "2                     0  \n",
              "3                     0  \n",
              "4                     0  \n",
              "...                 ...  \n",
              "1016                  0  \n",
              "1017                  0  \n",
              "1018                  0  \n",
              "1019                  0  \n",
              "1020                  0  \n",
              "\n",
              "[1021 rows x 120 columns]"
            ],
            "text/html": [
              "\n",
              "  <div id=\"df-90fdd468-4fff-4fb4-ab0c-51ceb633f704\">\n",
              "    <div class=\"colab-df-container\">\n",
              "      <div>\n",
              "<style scoped>\n",
              "    .dataframe tbody tr th:only-of-type {\n",
              "        vertical-align: middle;\n",
              "    }\n",
              "\n",
              "    .dataframe tbody tr th {\n",
              "        vertical-align: top;\n",
              "    }\n",
              "\n",
              "    .dataframe thead th {\n",
              "        text-align: right;\n",
              "    }\n",
              "</style>\n",
              "<table border=\"1\" class=\"dataframe\">\n",
              "  <thead>\n",
              "    <tr style=\"text-align: right;\">\n",
              "      <th></th>\n",
              "      <th>affenpinscher</th>\n",
              "      <th>afghan_hound</th>\n",
              "      <th>african_hunting_dog</th>\n",
              "      <th>airedale</th>\n",
              "      <th>american_staffordshire_terrier</th>\n",
              "      <th>appenzeller</th>\n",
              "      <th>australian_terrier</th>\n",
              "      <th>basenji</th>\n",
              "      <th>basset</th>\n",
              "      <th>beagle</th>\n",
              "      <th>...</th>\n",
              "      <th>toy_poodle</th>\n",
              "      <th>toy_terrier</th>\n",
              "      <th>vizsla</th>\n",
              "      <th>walker_hound</th>\n",
              "      <th>weimaraner</th>\n",
              "      <th>welsh_springer_spaniel</th>\n",
              "      <th>west_highland_white_terrier</th>\n",
              "      <th>whippet</th>\n",
              "      <th>wire-haired_fox_terrier</th>\n",
              "      <th>yorkshire_terrier</th>\n",
              "    </tr>\n",
              "  </thead>\n",
              "  <tbody>\n",
              "    <tr>\n",
              "      <th>0</th>\n",
              "      <td>0</td>\n",
              "      <td>0</td>\n",
              "      <td>0</td>\n",
              "      <td>0</td>\n",
              "      <td>0</td>\n",
              "      <td>0</td>\n",
              "      <td>0</td>\n",
              "      <td>0</td>\n",
              "      <td>0</td>\n",
              "      <td>0</td>\n",
              "      <td>...</td>\n",
              "      <td>0</td>\n",
              "      <td>0</td>\n",
              "      <td>0</td>\n",
              "      <td>0</td>\n",
              "      <td>0</td>\n",
              "      <td>0</td>\n",
              "      <td>0</td>\n",
              "      <td>0</td>\n",
              "      <td>0</td>\n",
              "      <td>0</td>\n",
              "    </tr>\n",
              "    <tr>\n",
              "      <th>1</th>\n",
              "      <td>0</td>\n",
              "      <td>0</td>\n",
              "      <td>0</td>\n",
              "      <td>0</td>\n",
              "      <td>0</td>\n",
              "      <td>0</td>\n",
              "      <td>0</td>\n",
              "      <td>0</td>\n",
              "      <td>0</td>\n",
              "      <td>0</td>\n",
              "      <td>...</td>\n",
              "      <td>0</td>\n",
              "      <td>0</td>\n",
              "      <td>0</td>\n",
              "      <td>0</td>\n",
              "      <td>0</td>\n",
              "      <td>0</td>\n",
              "      <td>0</td>\n",
              "      <td>0</td>\n",
              "      <td>0</td>\n",
              "      <td>0</td>\n",
              "    </tr>\n",
              "    <tr>\n",
              "      <th>2</th>\n",
              "      <td>0</td>\n",
              "      <td>0</td>\n",
              "      <td>0</td>\n",
              "      <td>0</td>\n",
              "      <td>0</td>\n",
              "      <td>0</td>\n",
              "      <td>0</td>\n",
              "      <td>0</td>\n",
              "      <td>0</td>\n",
              "      <td>0</td>\n",
              "      <td>...</td>\n",
              "      <td>0</td>\n",
              "      <td>0</td>\n",
              "      <td>0</td>\n",
              "      <td>0</td>\n",
              "      <td>0</td>\n",
              "      <td>0</td>\n",
              "      <td>0</td>\n",
              "      <td>0</td>\n",
              "      <td>0</td>\n",
              "      <td>0</td>\n",
              "    </tr>\n",
              "    <tr>\n",
              "      <th>3</th>\n",
              "      <td>0</td>\n",
              "      <td>0</td>\n",
              "      <td>0</td>\n",
              "      <td>0</td>\n",
              "      <td>0</td>\n",
              "      <td>0</td>\n",
              "      <td>0</td>\n",
              "      <td>0</td>\n",
              "      <td>0</td>\n",
              "      <td>0</td>\n",
              "      <td>...</td>\n",
              "      <td>0</td>\n",
              "      <td>0</td>\n",
              "      <td>0</td>\n",
              "      <td>0</td>\n",
              "      <td>0</td>\n",
              "      <td>0</td>\n",
              "      <td>0</td>\n",
              "      <td>0</td>\n",
              "      <td>0</td>\n",
              "      <td>0</td>\n",
              "    </tr>\n",
              "    <tr>\n",
              "      <th>4</th>\n",
              "      <td>0</td>\n",
              "      <td>0</td>\n",
              "      <td>0</td>\n",
              "      <td>0</td>\n",
              "      <td>0</td>\n",
              "      <td>0</td>\n",
              "      <td>0</td>\n",
              "      <td>0</td>\n",
              "      <td>0</td>\n",
              "      <td>0</td>\n",
              "      <td>...</td>\n",
              "      <td>0</td>\n",
              "      <td>0</td>\n",
              "      <td>0</td>\n",
              "      <td>0</td>\n",
              "      <td>0</td>\n",
              "      <td>0</td>\n",
              "      <td>0</td>\n",
              "      <td>0</td>\n",
              "      <td>0</td>\n",
              "      <td>0</td>\n",
              "    </tr>\n",
              "    <tr>\n",
              "      <th>...</th>\n",
              "      <td>...</td>\n",
              "      <td>...</td>\n",
              "      <td>...</td>\n",
              "      <td>...</td>\n",
              "      <td>...</td>\n",
              "      <td>...</td>\n",
              "      <td>...</td>\n",
              "      <td>...</td>\n",
              "      <td>...</td>\n",
              "      <td>...</td>\n",
              "      <td>...</td>\n",
              "      <td>...</td>\n",
              "      <td>...</td>\n",
              "      <td>...</td>\n",
              "      <td>...</td>\n",
              "      <td>...</td>\n",
              "      <td>...</td>\n",
              "      <td>...</td>\n",
              "      <td>...</td>\n",
              "      <td>...</td>\n",
              "      <td>...</td>\n",
              "    </tr>\n",
              "    <tr>\n",
              "      <th>1016</th>\n",
              "      <td>0</td>\n",
              "      <td>0</td>\n",
              "      <td>0</td>\n",
              "      <td>0</td>\n",
              "      <td>0</td>\n",
              "      <td>0</td>\n",
              "      <td>0</td>\n",
              "      <td>0</td>\n",
              "      <td>0</td>\n",
              "      <td>0</td>\n",
              "      <td>...</td>\n",
              "      <td>0</td>\n",
              "      <td>0</td>\n",
              "      <td>0</td>\n",
              "      <td>0</td>\n",
              "      <td>0</td>\n",
              "      <td>0</td>\n",
              "      <td>0</td>\n",
              "      <td>0</td>\n",
              "      <td>0</td>\n",
              "      <td>0</td>\n",
              "    </tr>\n",
              "    <tr>\n",
              "      <th>1017</th>\n",
              "      <td>0</td>\n",
              "      <td>0</td>\n",
              "      <td>0</td>\n",
              "      <td>0</td>\n",
              "      <td>0</td>\n",
              "      <td>0</td>\n",
              "      <td>0</td>\n",
              "      <td>0</td>\n",
              "      <td>0</td>\n",
              "      <td>0</td>\n",
              "      <td>...</td>\n",
              "      <td>0</td>\n",
              "      <td>0</td>\n",
              "      <td>0</td>\n",
              "      <td>0</td>\n",
              "      <td>0</td>\n",
              "      <td>0</td>\n",
              "      <td>0</td>\n",
              "      <td>0</td>\n",
              "      <td>0</td>\n",
              "      <td>0</td>\n",
              "    </tr>\n",
              "    <tr>\n",
              "      <th>1018</th>\n",
              "      <td>0</td>\n",
              "      <td>0</td>\n",
              "      <td>0</td>\n",
              "      <td>0</td>\n",
              "      <td>1</td>\n",
              "      <td>0</td>\n",
              "      <td>0</td>\n",
              "      <td>0</td>\n",
              "      <td>0</td>\n",
              "      <td>0</td>\n",
              "      <td>...</td>\n",
              "      <td>0</td>\n",
              "      <td>0</td>\n",
              "      <td>0</td>\n",
              "      <td>0</td>\n",
              "      <td>0</td>\n",
              "      <td>0</td>\n",
              "      <td>0</td>\n",
              "      <td>0</td>\n",
              "      <td>0</td>\n",
              "      <td>0</td>\n",
              "    </tr>\n",
              "    <tr>\n",
              "      <th>1019</th>\n",
              "      <td>0</td>\n",
              "      <td>0</td>\n",
              "      <td>0</td>\n",
              "      <td>0</td>\n",
              "      <td>0</td>\n",
              "      <td>0</td>\n",
              "      <td>0</td>\n",
              "      <td>0</td>\n",
              "      <td>0</td>\n",
              "      <td>0</td>\n",
              "      <td>...</td>\n",
              "      <td>0</td>\n",
              "      <td>0</td>\n",
              "      <td>0</td>\n",
              "      <td>0</td>\n",
              "      <td>0</td>\n",
              "      <td>0</td>\n",
              "      <td>0</td>\n",
              "      <td>0</td>\n",
              "      <td>0</td>\n",
              "      <td>0</td>\n",
              "    </tr>\n",
              "    <tr>\n",
              "      <th>1020</th>\n",
              "      <td>0</td>\n",
              "      <td>0</td>\n",
              "      <td>0</td>\n",
              "      <td>0</td>\n",
              "      <td>0</td>\n",
              "      <td>0</td>\n",
              "      <td>0</td>\n",
              "      <td>0</td>\n",
              "      <td>0</td>\n",
              "      <td>0</td>\n",
              "      <td>...</td>\n",
              "      <td>0</td>\n",
              "      <td>0</td>\n",
              "      <td>0</td>\n",
              "      <td>0</td>\n",
              "      <td>0</td>\n",
              "      <td>0</td>\n",
              "      <td>0</td>\n",
              "      <td>0</td>\n",
              "      <td>0</td>\n",
              "      <td>0</td>\n",
              "    </tr>\n",
              "  </tbody>\n",
              "</table>\n",
              "<p>1021 rows × 120 columns</p>\n",
              "</div>\n",
              "      <button class=\"colab-df-convert\" onclick=\"convertToInteractive('df-90fdd468-4fff-4fb4-ab0c-51ceb633f704')\"\n",
              "              title=\"Convert this dataframe to an interactive table.\"\n",
              "              style=\"display:none;\">\n",
              "        \n",
              "  <svg xmlns=\"http://www.w3.org/2000/svg\" height=\"24px\"viewBox=\"0 0 24 24\"\n",
              "       width=\"24px\">\n",
              "    <path d=\"M0 0h24v24H0V0z\" fill=\"none\"/>\n",
              "    <path d=\"M18.56 5.44l.94 2.06.94-2.06 2.06-.94-2.06-.94-.94-2.06-.94 2.06-2.06.94zm-11 1L8.5 8.5l.94-2.06 2.06-.94-2.06-.94L8.5 2.5l-.94 2.06-2.06.94zm10 10l.94 2.06.94-2.06 2.06-.94-2.06-.94-.94-2.06-.94 2.06-2.06.94z\"/><path d=\"M17.41 7.96l-1.37-1.37c-.4-.4-.92-.59-1.43-.59-.52 0-1.04.2-1.43.59L10.3 9.45l-7.72 7.72c-.78.78-.78 2.05 0 2.83L4 21.41c.39.39.9.59 1.41.59.51 0 1.02-.2 1.41-.59l7.78-7.78 2.81-2.81c.8-.78.8-2.07 0-2.86zM5.41 20L4 18.59l7.72-7.72 1.47 1.35L5.41 20z\"/>\n",
              "  </svg>\n",
              "      </button>\n",
              "      \n",
              "  <style>\n",
              "    .colab-df-container {\n",
              "      display:flex;\n",
              "      flex-wrap:wrap;\n",
              "      gap: 12px;\n",
              "    }\n",
              "\n",
              "    .colab-df-convert {\n",
              "      background-color: #E8F0FE;\n",
              "      border: none;\n",
              "      border-radius: 50%;\n",
              "      cursor: pointer;\n",
              "      display: none;\n",
              "      fill: #1967D2;\n",
              "      height: 32px;\n",
              "      padding: 0 0 0 0;\n",
              "      width: 32px;\n",
              "    }\n",
              "\n",
              "    .colab-df-convert:hover {\n",
              "      background-color: #E2EBFA;\n",
              "      box-shadow: 0px 1px 2px rgba(60, 64, 67, 0.3), 0px 1px 3px 1px rgba(60, 64, 67, 0.15);\n",
              "      fill: #174EA6;\n",
              "    }\n",
              "\n",
              "    [theme=dark] .colab-df-convert {\n",
              "      background-color: #3B4455;\n",
              "      fill: #D2E3FC;\n",
              "    }\n",
              "\n",
              "    [theme=dark] .colab-df-convert:hover {\n",
              "      background-color: #434B5C;\n",
              "      box-shadow: 0px 1px 3px 1px rgba(0, 0, 0, 0.15);\n",
              "      filter: drop-shadow(0px 1px 2px rgba(0, 0, 0, 0.3));\n",
              "      fill: #FFFFFF;\n",
              "    }\n",
              "  </style>\n",
              "\n",
              "      <script>\n",
              "        const buttonEl =\n",
              "          document.querySelector('#df-90fdd468-4fff-4fb4-ab0c-51ceb633f704 button.colab-df-convert');\n",
              "        buttonEl.style.display =\n",
              "          google.colab.kernel.accessAllowed ? 'block' : 'none';\n",
              "\n",
              "        async function convertToInteractive(key) {\n",
              "          const element = document.querySelector('#df-90fdd468-4fff-4fb4-ab0c-51ceb633f704');\n",
              "          const dataTable =\n",
              "            await google.colab.kernel.invokeFunction('convertToInteractive',\n",
              "                                                     [key], {});\n",
              "          if (!dataTable) return;\n",
              "\n",
              "          const docLinkHtml = 'Like what you see? Visit the ' +\n",
              "            '<a target=\"_blank\" href=https://colab.research.google.com/notebooks/data_table.ipynb>data table notebook</a>'\n",
              "            + ' to learn more about interactive tables.';\n",
              "          element.innerHTML = '';\n",
              "          dataTable['output_type'] = 'display_data';\n",
              "          await google.colab.output.renderOutput(dataTable, element);\n",
              "          const docLink = document.createElement('div');\n",
              "          docLink.innerHTML = docLinkHtml;\n",
              "          element.appendChild(docLink);\n",
              "        }\n",
              "      </script>\n",
              "    </div>\n",
              "  </div>\n",
              "  "
            ]
          },
          "metadata": {},
          "execution_count": 23
        }
      ]
    },
    {
      "cell_type": "code",
      "execution_count": null,
      "metadata": {
        "colab": {
          "base_uri": "https://localhost:8080/",
          "height": 1000
        },
        "id": "kAa9soZw42GZ",
        "outputId": "91ca255b-c0a7-4369-ef33-448e47f9c77d"
      },
      "outputs": [
        {
          "output_type": "stream",
          "name": "stdout",
          "text": [
            "Image shape =  (375, 500, 3)\n",
            "[[[  0  18   5]\n",
            "  [  2  22  10]\n",
            "  [ 72  92  80]\n",
            "  ...\n",
            "  [  1  12   4]\n",
            "  [  3  14   6]\n",
            "  [  5  16   8]]\n",
            "\n",
            " [[ 45  65  53]\n",
            "  [  0   7   0]\n",
            "  [  0  13   1]\n",
            "  ...\n",
            "  [  3  14   6]\n",
            "  [  4  15   7]\n",
            "  [  6  17   9]]\n",
            "\n",
            " [[ 45  65  53]\n",
            "  [ 17  37  25]\n",
            "  [  0  14   2]\n",
            "  ...\n",
            "  [  4  14   6]\n",
            "  [  5  15   7]\n",
            "  [  6  16   8]]\n",
            "\n",
            " ...\n",
            "\n",
            " [[ 96 137  71]\n",
            "  [ 96 137  71]\n",
            "  [104 144  81]\n",
            "  ...\n",
            "  [ 25  62  11]\n",
            "  [ 14  51   0]\n",
            "  [  9  46   0]]\n",
            "\n",
            " [[133 174 108]\n",
            "  [117 158  92]\n",
            "  [127 167 104]\n",
            "  ...\n",
            "  [ 49  86  35]\n",
            "  [ 38  75  24]\n",
            "  [ 20  57   6]]\n",
            "\n",
            " [[106 147  81]\n",
            "  [ 36  77  11]\n",
            "  [ 92 132  69]\n",
            "  ...\n",
            "  [ 43  80  29]\n",
            "  [ 33  70  19]\n",
            "  [ 20  57   6]]]\n"
          ]
        },
        {
          "output_type": "display_data",
          "data": {
            "text/plain": [
              "<Figure size 432x288 with 1 Axes>"
            ],
            "image/png": "[encoded data removed]"
          },
          "metadata": {
            "needs_background": "light"
          }
        }
      ],
      "source": [
        "import tensorflow as tf\n",
        "from tensorflow import keras\n",
        "import matplotlib.pyplot as plt\n",
        "import cv2\n",
        "for i in os.listdir(dir_train):\n",
        "    image = plt.imread(dir_train + '/' + i)\n",
        "    plt.imshow(image)\n",
        "    print(\"Image shape = \",np.shape(image))\n",
        "    print(image)\n",
        "    break\n"
      ]
    },
    {
      "cell_type": "code",
      "execution_count": null,
      "metadata": {
        "id": "vNy-7O4W42UH"
      },
      "outputs": [],
      "source": [
        "from tensorflow.keras.models import Sequential\n",
        "from tensorflow.keras.layers import Dense, Dropout,Flatten,Activation,Conv2D,MaxPooling2D\n",
        "from tensorflow.keras.preprocessing.image import ImageDataGenerator\n",
        "from tensorflow.keras.preprocessing import image\n",
        "\n",
        "y = np.array(y)\n",
        "X = []\n",
        "for i in os.listdir(dir_train):\n",
        "    img = cv2.imread(dir_train + '/' + i)\n",
        "    img = cv2.resize(img,(100,100))\n",
        "    #img = np.array(img)\n",
        "    #img = np.clip(img/255.0,0.0,1.0)\n",
        "    X.append(img)\n",
        "X = np.array(X)"
      ]
    },
    {
      "cell_type": "code",
      "source": [
        "print(np.shape(X[0]))\n",
        "X[0]"
      ],
      "metadata": {
        "colab": {
          "base_uri": "https://localhost:8080/"
        },
        "id": "0rN5ZXEJO0NM",
        "outputId": "975b3590-c34e-433b-c1d4-9e1f822eef42"
      },
      "execution_count": null,
      "outputs": [
        {
          "output_type": "stream",
          "name": "stdout",
          "text": [
            "(100, 100, 3)\n"
          ]
        },
        {
          "output_type": "execute_result",
          "data": {
            "text/plain": [
              "array([[[  1,  13,   0],\n",
              "        [  6,  16,   5],\n",
              "        [  0,   4,   3],\n",
              "        ...,\n",
              "        [ 20,  22,  17],\n",
              "        [  8,  16,   8],\n",
              "        [  7,  14,   3]],\n",
              "\n",
              "       [[ 26,  35,  22],\n",
              "        [  4,  11,   2],\n",
              "        [  0,   4,   2],\n",
              "        ...,\n",
              "        [  0,  15,   1],\n",
              "        [ 15,  25,  22],\n",
              "        [  4,   8,   3]],\n",
              "\n",
              "       [[  0,   4,   0],\n",
              "        [  0,   4,   0],\n",
              "        [  0,   3,   1],\n",
              "        ...,\n",
              "        [ 48,  94,  71],\n",
              "        [115, 132, 123],\n",
              "        [  1,   6,   4]],\n",
              "\n",
              "       ...,\n",
              "\n",
              "       [[ 81, 128, 102],\n",
              "        [ 36, 110,  62],\n",
              "        [ 76, 132,  88],\n",
              "        ...,\n",
              "        [ 37,  93,  52],\n",
              "        [ 91, 159, 121],\n",
              "        [ 27,  77,  45]],\n",
              "\n",
              "       [[ 52, 115,  76],\n",
              "        [101, 162, 127],\n",
              "        [ 69, 128,  84],\n",
              "        ...,\n",
              "        [ 55, 100,  61],\n",
              "        [ 25,  71,  37],\n",
              "        [ 12,  62,  25]],\n",
              "\n",
              "       [[ 95, 158, 119],\n",
              "        [ 45, 105,  71],\n",
              "        [ 77, 136,  92],\n",
              "        ...,\n",
              "        [ 29,  73,  34],\n",
              "        [ 39,  84,  51],\n",
              "        [ 26,  77,  40]]], dtype=uint8)"
            ]
          },
          "metadata": {},
          "execution_count": 26
        }
      ]
    },
    {
      "cell_type": "code",
      "source": [
        "from google.colab.patches import cv2_imshow\n",
        "cv2_imshow(X[0])"
      ],
      "metadata": {
        "colab": {
          "base_uri": "https://localhost:8080/",
          "height": 117
        },
        "id": "8R7BV1WzJTzx",
        "outputId": "204d27d8-f850-4657-991a-d258590c6d60"
      },
      "execution_count": null,
      "outputs": [
        {
          "output_type": "display_data",
          "data": {
            "text/plain": [
              "<PIL.Image.Image image mode=RGB size=100x100 at 0x7F592B2BD210>"
            ],
            "image/png": "[encoded data removed]"
          },
          "metadata": {}
        }
      ]
    },
    {
      "cell_type": "code",
      "execution_count": null,
      "metadata": {
        "colab": {
          "base_uri": "https://localhost:8080/"
        },
        "id": "8inCturZnPJ1",
        "outputId": "9f72a1da-231f-4c9e-9566-245656731511"
      },
      "outputs": [
        {
          "output_type": "execute_result",
          "data": {
            "text/plain": [
              "(100, 100, 3)"
            ]
          },
          "metadata": {},
          "execution_count": 28
        }
      ],
      "source": [
        "np.shape(X[0])"
      ]
    },
    {
      "cell_type": "code",
      "source": [
        "X_validation = []\n",
        "for i in os.listdir(dir_validation):\n",
        "    img = cv2.imread(dir_validation + '/' + i)\n",
        "    img = cv2.resize(img,(100,100))\n",
        "    #img = np.array(img)\n",
        "    #img = np.clip(img/255.0,0.0,1.0)\n",
        "    X_validation.append(img)\n",
        "X_validation = np.array(X_validation)"
      ],
      "metadata": {
        "id": "IUUbkNDwnvyT"
      },
      "execution_count": null,
      "outputs": []
    },
    {
      "cell_type": "code",
      "source": [
        "np.shape(X_validation)"
      ],
      "metadata": {
        "colab": {
          "base_uri": "https://localhost:8080/"
        },
        "id": "fNOSxN5Onv_i",
        "outputId": "d29b76e9-6ee7-474a-ef39-4e6ae60d7d18"
      },
      "execution_count": null,
      "outputs": [
        {
          "output_type": "execute_result",
          "data": {
            "text/plain": [
              "(822, 100, 100, 3)"
            ]
          },
          "metadata": {},
          "execution_count": 30
        }
      ]
    },
    {
      "cell_type": "code",
      "source": [
        "from sklearn.model_selection import train_test_split\n",
        "X_train, X_test, y_train, y_test = train_test_split(X, y, random_state=42, test_size=0.2)"
      ],
      "metadata": {
        "id": "FEMr-u7GouuI"
      },
      "execution_count": null,
      "outputs": []
    },
    {
      "cell_type": "code",
      "source": [
        "model= Sequential()\n",
        "model.add(Conv2D(16,kernel_size=(7,7),input_shape=(100,100,3)))\n",
        "model.add(Activation('relu'))\n",
        "model.add(MaxPooling2D(pool_size=(2,2)))\n",
        "\n",
        "model.add(Conv2D(32,kernel_size=(7,7)))\n",
        "model.add(Activation('relu'))\n",
        "model.add(MaxPooling2D(pool_size=(2,2)))\n",
        "\n",
        "model.add(Conv2D(64,kernel_size=(7,7)))\n",
        "model.add(Activation('relu'))\n",
        "model.add(MaxPooling2D(pool_size=(2,2)))\n",
        "\n",
        "model.add(Flatten())\n",
        "\n",
        "model.add(Dense(64))\n",
        "model.add(Dense(120,activation = 'softmax'))\n",
        "\n",
        "model.compile(loss='categorical_crossentropy',optimizer='adam',metrics=['accuracy'])\n"
      ],
      "metadata": {
        "id": "_F6zinu4pwh2"
      },
      "execution_count": null,
      "outputs": []
    },
    {
      "cell_type": "code",
      "source": [
        "model.fit(X_train, y_train, epochs=10, validation_data=(X_test, y_test))"
      ],
      "metadata": {
        "colab": {
          "base_uri": "https://localhost:8080/"
        },
        "id": "SeF_9_V1ouxS",
        "outputId": "6d0cd278-0aed-4c51-d747-a6a764696c5c"
      },
      "execution_count": null,
      "outputs": [
        {
          "output_type": "stream",
          "name": "stdout",
          "text": [
            "Epoch 1/10\n",
            "26/26 [==============================] - 25s 960ms/step - loss: 4.6702 - accuracy: 0.0355 - val_loss: 4.8658 - val_accuracy: 0.0146\n",
            "Epoch 2/10\n",
            "26/26 [==============================] - 16s 605ms/step - loss: 4.4558 - accuracy: 0.0515 - val_loss: 5.1470 - val_accuracy: 0.0146\n",
            "Epoch 3/10\n",
            "26/26 [==============================] - 16s 601ms/step - loss: 4.1441 - accuracy: 0.1078 - val_loss: 5.2702 - val_accuracy: 0.0146\n",
            "Epoch 4/10\n",
            "26/26 [==============================] - 16s 602ms/step - loss: 3.7051 - accuracy: 0.1691 - val_loss: 5.2922 - val_accuracy: 0.0146\n",
            "Epoch 5/10\n",
            "26/26 [==============================] - 16s 598ms/step - loss: 3.2501 - accuracy: 0.2745 - val_loss: 6.2608 - val_accuracy: 0.0049\n",
            "Epoch 6/10\n",
            "26/26 [==============================] - 15s 595ms/step - loss: 2.6106 - accuracy: 0.3897 - val_loss: 6.5112 - val_accuracy: 0.0049\n",
            "Epoch 7/10\n",
            "26/26 [==============================] - 16s 617ms/step - loss: 2.0163 - accuracy: 0.5306 - val_loss: 8.0434 - val_accuracy: 0.0049\n",
            "Epoch 8/10\n",
            "26/26 [==============================] - 16s 600ms/step - loss: 1.4337 - accuracy: 0.6483 - val_loss: 8.7739 - val_accuracy: 0.0000e+00\n",
            "Epoch 9/10\n",
            "26/26 [==============================] - 16s 600ms/step - loss: 1.0154 - accuracy: 0.7610 - val_loss: 9.5934 - val_accuracy: 0.0049\n",
            "Epoch 10/10\n",
            "26/26 [==============================] - 16s 599ms/step - loss: 0.7200 - accuracy: 0.8395 - val_loss: 11.0744 - val_accuracy: 0.0000e+00\n"
          ]
        },
        {
          "output_type": "execute_result",
          "data": {
            "text/plain": [
              "<keras.callbacks.History at 0x7f592b161610>"
            ]
          },
          "metadata": {},
          "execution_count": 35
        }
      ]
    },
    {
      "cell_type": "code",
      "source": [
        "y_pred = model.predict(X_test)\n",
        "y_pred =np.argmax(y_pred,axis=1)\n",
        "y_pred"
      ],
      "metadata": {
        "colab": {
          "base_uri": "https://localhost:8080/"
        },
        "id": "OPu8MmOh9VNx",
        "outputId": "f51b22da-8617-4c0a-b206-5226ac07586f"
      },
      "execution_count": null,
      "outputs": [
        {
          "output_type": "execute_result",
          "data": {
            "text/plain": [
              "array([ 90, 117,  68,  71,  11,  62,  89,  10,   8,   6,  49,  24, 119,\n",
              "        33,   0,  71,  40,  24,  39,  79,   3,   2,  10,   9,  19,   8,\n",
              "        49,  66,   9,  20, 115,  47,  99,  88,  39,   1,  33,  57,  57,\n",
              "        33,  54,   6,  31, 115,  69,  36,  71,  37,  40,  79,  69,  36,\n",
              "        78,  88,  27,   1, 118,  49,  96,  26,  93,  39,  24,  16,  10,\n",
              "        31,  93,  68,  59, 106,  76,  40,  44,  83, 104,   4,  45,  53,\n",
              "        61,  83,  12,  86, 114,  59,  25,  20, 111, 118,  42,  25,  21,\n",
              "       115,  11,  53,  34,  27,  24, 115,  73,  81,   6,  59,   3,  25,\n",
              "        66,  91,  14,  29,  44,  42, 111,  24,   4,  81, 115, 104,  53,\n",
              "        42, 115,  57, 115, 116,  24,  66, 119,  36,  42,  33, 100, 113,\n",
              "         8,  38, 117,  47,   2,  20,  72,  59,  55,  25,  20,  36,  42,\n",
              "        78,  81,  52, 108,  79,   7,   4,  24,  69,  20,  97,  57,  72,\n",
              "        42,  19,  89, 116,  83, 111,  93,  97,  25,  44, 119,  11,  25,\n",
              "        10,  33, 100,  88,  64,  82,  81,  81,  20,  35, 113,  52,  11,\n",
              "        19,  71,   0,   5,  65,  10,  94,  60,  50,  51,  14,  81, 101,\n",
              "        34,  14,  89, 114,  90, 109, 110,   9, 115,  97])"
            ]
          },
          "metadata": {},
          "execution_count": 36
        }
      ]
    },
    {
      "cell_type": "code",
      "source": [
        "y_test=np.argmax(y_test,axis=1)\n",
        "y_test"
      ],
      "metadata": {
        "colab": {
          "base_uri": "https://localhost:8080/"
        },
        "id": "t06gTq2c9iQB",
        "outputId": "8066c743-82ea-4445-86e7-6807fdcb77a0"
      },
      "execution_count": null,
      "outputs": [
        {
          "output_type": "execute_result",
          "data": {
            "text/plain": [
              "array([105,  32,  13,  67,  69,  54,   6,   7,  16,   3,   1,  94,  19,\n",
              "        65,  89,  66,  62, 110,  19,  98, 118,  70,  81, 117,  32,  94,\n",
              "        63,   9,  22,  89,  11,  34,   6,  52,  87,   8,  75,  72,  29,\n",
              "        72, 119, 100, 100,  30, 109,  25,  29,  60, 110,   3, 108, 112,\n",
              "        66,   8,  34,  99,  97,  82,  77,  93,  10,  94,  39,  28, 113,\n",
              "         0,  37,  86, 118,  10,   5,  34,  15,   8,  86,  88,  84,  35,\n",
              "         7,  28,   5,  13,  87,  69,   8,  28,  96,  59,  91,  27,  54,\n",
              "         9,  58,  56,  20,  56, 114,   5,   7,  67,   5,  74,  21,  35,\n",
              "        10, 106,  31,  93,  62,  76,  61,  61,  90,  42,   6, 117,  67,\n",
              "       113,  96,  20,  74,  53,  38,  90,  73,   5,  14,  35,  55,  16,\n",
              "       119,  68,  79,  83,  87,  86,  50,  71, 117,  85,  74, 104,  13,\n",
              "        15,  78,  38,  18,  22,  56,  41,  35,  48,  57, 102,  49,  24,\n",
              "        64,   0,  23, 101,   1,  31,  13,  15,  94,  82,  20,  73,  48,\n",
              "        15,  39,  70,  99, 115,  49,  46,  99,  59, 114,  14,  70, 103,\n",
              "        17,  15,  20,  13,   2,  31,  24,  56, 116,  93,  85,   6,  39,\n",
              "       118, 101,  13,  58,  36,  82,   1,  22, 114, 110])"
            ]
          },
          "metadata": {},
          "execution_count": 37
        }
      ]
    },
    {
      "cell_type": "code",
      "source": [
        "pred = model.predict(X_validation)\n",
        "classes =np.argmax(pred,axis=1)\n",
        "classes"
      ],
      "metadata": {
        "colab": {
          "base_uri": "https://localhost:8080/"
        },
        "id": "5Q98gjhUou0b",
        "outputId": "ec99aab1-61f8-454b-a223-018a7fb79579"
      },
      "execution_count": null,
      "outputs": [
        {
          "output_type": "execute_result",
          "data": {
            "text/plain": [
              "array([ 68,  28, 111, 118,  66,  78, 109, 113,  66,   3, 106,  73,  36,\n",
              "        71,  38,  36,  90,  97, 113,   0, 102,  17,  47,  93,  92,  33,\n",
              "         6,  68, 119,  33,  90,  81,  91,  58,  11,  11,  19,  36, 115,\n",
              "        29, 113, 115,  68,  98,  84,  29,  90, 104, 114,   4, 119,  19,\n",
              "       116,  38,  83,  33,  66, 106,  44,  33,  31,  41,  11,  13,  61,\n",
              "         0,  38, 115, 115, 113, 105,  19,  58,  30,  20, 109,  81,  59,\n",
              "         3,  70,  71,  93,  89,  75,  59,  99,  49,  39,  49,  52,  96,\n",
              "         1,  69,   9,  99,   3,  33,  19,  45,  99,  39,   7,  96,   8,\n",
              "        52,  59,  10, 100,  59,  71,  19,  53,  81,  81,  24,  83, 100,\n",
              "        17,  56,  51,   2,  29,  19,  30,  82,  19,  11,  52, 100,   3,\n",
              "        71,   1,   5,  27,  59, 116,  64,  29,  66,  55,  26,  57,  83,\n",
              "        20, 102,  17,   5,  33,  86,  39, 100,  10,  90,  83,  94,  34,\n",
              "       116,  46,  20, 119,   6, 100,  36,  67,  11, 116,  11,  50,  38,\n",
              "        17, 104,  90,  79,  42,  97,  56,  59,  32,  97,  28,  90,  26,\n",
              "        91,   6,  81,  95,  14,   3,  11,  56,  42, 109,  93,  56,  76,\n",
              "        59, 115,  36,  21,   9,  44,  61,   7, 115,  24,  64,  39,   7,\n",
              "       113,  28,  52,  14,  76,  83,  55,  89,  17,  11,  45,  19,  62,\n",
              "       119,  33,  83,  66,   1,  34,  13,  57, 115,  66,  25,  31,  75,\n",
              "        39,  66,  67,  14, 115,  58,   2,  89, 119,  98,  35, 109,  30,\n",
              "        34,  90,  20,  11,  42,   1,  90, 106,  79,  19,  81,  26, 119,\n",
              "         3,  38, 104,  80,  80,  96,  49,  59, 113,  93,  81,  75,  57,\n",
              "        93,  49,  59,  89, 106,  40,  17,  19,  34,  37,  34,   3,   6,\n",
              "        98,  49,  76, 100,  20,  92,  35,   2, 115,  39,  93,  68,  97,\n",
              "        77, 118,   7,  81,  17,  30,  14, 119,  14,  78,   0, 116,  71,\n",
              "        50,  11,  89, 119,  34,  66,  49,  42,  39,  52,  34, 116,  67,\n",
              "        98,  23, 100,  91,  90,  68,  11,  66,  11,   0,  18,  71,  35,\n",
              "       104,  14,  21,  90,  81,  99, 115,  76, 109,  83,  57,  61,  13,\n",
              "       119, 104,  21,  81, 119,  14,  80,  44,  14,  31,  57,  94, 104,\n",
              "        79,  14,  11,  17,  25,  76,  24,  97,  30,  71,   1,  37,  19,\n",
              "       106,  33,  70,  60,  27, 104,  11, 109,  88,  66,  91,  17, 109,\n",
              "        27,  34,  58,  81,  72, 115,  42,  51,  20,  68,  77,   3,   9,\n",
              "        75, 116,  59,  26,  33,  28,  81,  70,  58, 100,  58,  58,  18,\n",
              "        53,  37, 102,  93,  42,  93,  55,  13,  33, 113,   4,  60,  83,\n",
              "        31, 109,  65,  37,   0,  39,  83,  36, 113, 118,  71, 119,  21,\n",
              "        66,  61,  93,  20,  19,  20,  99,   3,   7,  11,  62,  76,  80,\n",
              "        17,  40, 106,  39,  19,  96,  83,  56, 104,  99,  49,  12,  17,\n",
              "         7,  48,  49,  17,  52,  20,  59,  33,  42, 102,  81, 115,  69,\n",
              "        46, 102, 113, 113,  97,  97,   2,  37,   4,  93,  70,  38,  68,\n",
              "         3,  25, 102,  17,   6, 108,  84,  86,  80, 108,  92,   7,  59,\n",
              "        83,  46,  62, 118,  42, 103,  42,   0,  78, 115,  95,  11,  36,\n",
              "        63,  79,   2,  61,  69,  19,  20, 113,  90,  89,  37,  68,  71,\n",
              "        52,  49,  74,  77,  99, 108, 101,  65,  39, 116,  19,  37,  53,\n",
              "        22, 118,  44,  57,  31,  91,  11, 115,  72, 100,  72,  57,   7,\n",
              "        84,  78,  86,   6,  97,  79,  93,  59,   4,  73,  49, 110, 109,\n",
              "        34, 115, 106,  34,  49,  83,  68, 119, 115,   0,  57,  68,  90,\n",
              "        38,  99,   4,  10,  17,  43,  52,  76,  94,  75,  83,  38,  89,\n",
              "         2,   6,  14,  83,  49,  71,  14,  11,  10,  10,  57,  66,  75,\n",
              "         2,  96,  96,  87,  19,  27, 111,  73,  20,  39,  14,  60,  33,\n",
              "        20,  34, 107,   0,  88,  73,  82,  74, 119,  80,  95,  45,  37,\n",
              "        37,   8,  88,  81,  98,  25,  87,  10,  11,  34,  49, 110,  54,\n",
              "       119,  71,  57,  81,  38,  99,  84,  51,   3,  33,  81,  49,  95,\n",
              "       103, 109, 100,  92,  66,  91,  21,  72,  40,  77,  88, 115,  92,\n",
              "        66,  93,  87,  20,  28,  62,  93,  17,  14,  17, 116, 104,  56,\n",
              "        11,  92,  95, 117,  31,  34,  20,  71,   1,  81,  67,  24,  17,\n",
              "        25,  68,  24,  25,  85,  52,  87,  49,  73, 116,  83, 106,  49,\n",
              "         4,  57,  14,  40,  99,  27,  56,   1,  82,   4,  24,  59, 115,\n",
              "        14,  98,   7,  73,  92,  17,  60,  79,   7,  60,  47,  89, 104,\n",
              "       118,  68,  21,  75,  90,  57,  65,  53,  58,  11, 119,  49,  81,\n",
              "        57,  42, 110, 100,  20,  97,  88,  36,  65,  21,  36,  88, 115,\n",
              "        87,  10,  70,  83, 119,  51,  68,  98,   1,  97,  63,  11,  84,\n",
              "       115,  81,  76,  90,  90,  14,  14, 115,  59,  17, 103, 100,  60,\n",
              "        61, 119, 102,  34,  12,  29, 113, 118,  94,   2,  93,   4,  17,\n",
              "        29,  18,  11,  59,  64,   1,  62, 113,  68, 104,  97, 115,  13,\n",
              "        32,  65,  68])"
            ]
          },
          "metadata": {},
          "execution_count": 39
        }
      ]
    },
    {
      "cell_type": "code",
      "execution_count": null,
      "metadata": {
        "id": "Uhws_eeVTaYU"
      },
      "outputs": [],
      "source": [
        "model = Sequential([Conv2D(16,(3,3),activation=\"relu\",input_shape=(50,50,1)),MaxPooling2D(2,2),\n",
        "                    Conv2D(32,(3,3),activation=\"relu\"),MaxPooling2D(2,2),\n",
        "                    Conv2D(64,(3,3),activation=\"relu\"),MaxPooling2D(2,2),\n",
        "                    Flatten(),\n",
        "                    Dense(512,activation=\"relu\"),\n",
        "                    Dense(120,activation=\"softmax\"),\n",
        "                  ])\n",
        "\n"
      ]
    },
    {
      "cell_type": "code",
      "execution_count": null,
      "metadata": {
        "id": "vQL5VS-CXeXR"
      },
      "outputs": [],
      "source": [
        ""
      ]
    }
  ],
  "metadata": {
    "colab": {
      "name": "Dog Breed.ipynb",
      "provenance": [],
      "collapsed_sections": []
    },
    "kernelspec": {
      "display_name": "Python 3",
      "name": "python3"
    },
    "language_info": {
      "name": "python"
    }
  },
  "nbformat": 4,
  "nbformat_minor": 0
}